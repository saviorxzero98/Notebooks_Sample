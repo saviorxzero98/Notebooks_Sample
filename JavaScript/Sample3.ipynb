{
 "cells": [
  {
   "cell_type": "code",
   "execution_count": 1,
   "metadata": {
    "vscode": {
     "languageId": "javascript"
    }
   },
   "outputs": [
    {
     "name": "stdout",
     "output_type": "stream",
     "text": [
      "hello world\n",
      "hello javascript\n",
      "hello jupyter\n"
     ]
    }
   ],
   "source": [
    "%%script node\n",
    "\n",
    "let greeting = 'hello';\n",
    "let persons = ['world', 'javascript', 'jupyter'];\n",
    "\n",
    "for (let person of persons) {\n",
    "    console.log(`${greeting} ${person}`);\n",
    "}"
   ]
  }
 ],
 "metadata": {
  "kernelspec": {
   "display_name": "Python 3",
   "language": "python",
   "name": "python3"
  },
  "language_info": {
   "codemirror_mode": {
    "name": "ipython",
    "version": 3
   },
   "file_extension": ".py",
   "mimetype": "text/x-python",
   "name": "python",
   "nbconvert_exporter": "python",
   "pygments_lexer": "ipython3",
   "version": "3.10.11"
  },
  "orig_nbformat": 4
 },
 "nbformat": 4,
 "nbformat_minor": 2
}
