{
 "cells": [
  {
   "cell_type": "code",
   "execution_count": 1,
   "metadata": {},
   "outputs": [
    {
     "name": "stdout",
     "output_type": "stream",
     "text": [
      "周長: 14\n",
      "面積: 12\n"
     ]
    }
   ],
   "source": [
    "import math\n",
    "\n",
    "class Rectangle:\n",
    "    width = 0\n",
    "    height = 1\n",
    "\n",
    "    def __init__(self, width, height):\n",
    "        self.width = width\n",
    "        self.height = height\n",
    "\n",
    "    def get_perimeter(self):\n",
    "        return self.width * 2 + self.height * 2\n",
    "    \n",
    "    def get_area(self):\n",
    "        return self.width * self.height\n",
    "\n",
    "r = Rectangle(3, 4)\n",
    "print(f'周長: {r.get_perimeter()}')\n",
    "print(f'面積: {r.get_area()}')"
   ]
  },
  {
   "attachments": {},
   "cell_type": "markdown",
   "metadata": {},
   "source": [
    "* 匯入外部 Python 檔案"
   ]
  },
  {
   "cell_type": "code",
   "execution_count": 2,
   "metadata": {},
   "outputs": [
    {
     "name": "stdout",
     "output_type": "stream",
     "text": [
      "直徑: 20\n",
      "周長: 62.832\n",
      "面積: 314.159\n"
     ]
    }
   ],
   "source": [
    "import circle\n",
    "\n",
    "c = circle.Circle(10)\n",
    "print(f'直徑: {c.get_diameter()}')\n",
    "print(f'周長: {c.get_circumference():.3f}')\n",
    "print(f'面積: {c.get_area():.3f}')"
   ]
  }
 ],
 "metadata": {
  "kernelspec": {
   "display_name": "Python 3",
   "language": "python",
   "name": "python3"
  },
  "language_info": {
   "codemirror_mode": {
    "name": "ipython",
    "version": 3
   },
   "file_extension": ".py",
   "mimetype": "text/x-python",
   "name": "python",
   "nbconvert_exporter": "python",
   "pygments_lexer": "ipython3",
   "version": "3.10.11"
  },
  "orig_nbformat": 4
 },
 "nbformat": 4,
 "nbformat_minor": 2
}
