{
 "cells": [
  {
   "attachments": {},
   "cell_type": "markdown",
   "metadata": {},
   "source": [
    "## Print Hello World"
   ]
  },
  {
   "cell_type": "code",
   "execution_count": 1,
   "metadata": {},
   "outputs": [
    {
     "name": "stdout",
     "output_type": "stream",
     "text": [
      "hello world\n",
      "hello python\n",
      "hello jupyter\n",
      "\n",
      "hello world\n",
      "hello python\n",
      "hello jupyter\n"
     ]
    }
   ],
   "source": [
    "greeting = 'hello'\n",
    "persons = ['world', 'python', 'jupyter']\n",
    "\n",
    "def printHelloWorld(greet, name):\n",
    "    print(f'{greet} {name}')\n",
    "\n",
    "for person in persons:\n",
    "    printHelloWorld(greeting, person)\n",
    "\n",
    "print('')\n",
    "\n",
    "for index in range(len(persons)):\n",
    "    printHelloWorld(greeting, persons[index])\n",
    "    "
   ]
  }
 ],
 "metadata": {
  "kernelspec": {
   "display_name": "Python 3.9.13 64-bit",
   "language": "python",
   "name": "python3"
  },
  "language_info": {
   "codemirror_mode": {
    "name": "ipython",
    "version": 3
   },
   "file_extension": ".py",
   "mimetype": "text/x-python",
   "name": "python",
   "nbconvert_exporter": "python",
   "pygments_lexer": "ipython3",
   "version": "3.10.11"
  },
  "orig_nbformat": 4,
  "vscode": {
   "interpreter": {
    "hash": "11938c6bc6919ae2720b4d5011047913343b08a43b18698fd82dedb0d4417594"
   }
  }
 },
 "nbformat": 4,
 "nbformat_minor": 2
}
