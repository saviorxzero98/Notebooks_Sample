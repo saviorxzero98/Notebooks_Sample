{
 "cells": [
  {
   "cell_type": "code",
   "execution_count": 1,
   "metadata": {
    "dotnet_interactive": {
     "language": "csharp"
    }
   },
   "outputs": [
    {
     "data": {
      "text/html": [
       "<div><div><strong>Restore sources</strong><ul><li><span>https://api.nuget.org/v3/index.json</span></li></ul></div><div></div><div><strong>Installed Packages</strong><ul><li><span>Microsoft.DotNet.Interactive.SqlServer, 1.0.0-beta.23517.1</span></li></ul></div></div>"
      ]
     },
     "metadata": {},
     "output_type": "display_data"
    },
    {
     "data": {
      "text/plain": [
       "Loading extension script from `C:\\Users\\User\\.nuget\\packages\\microsoft.dotnet.interactive.sqlserver\\1.0.0-beta.23517.1\\interactive-extensions\\dotnet\\extension.dib`"
      ]
     },
     "metadata": {},
     "output_type": "display_data"
    },
    {
     "data": {
      "text/html": [
       "<details><summary>Query Microsoft SQL Server databases.</summary>\r\n",
       "<p>This extension adds support for connecting to Microsoft SQL Server databases using the <code>#!connect mssql</code> magic command. For more information, run a cell using the <code>#!sql</code> magic command.</p>\r\n",
       "</details>"
      ]
     },
     "metadata": {},
     "output_type": "display_data"
    }
   ],
   "source": [
    "// 設定 NuGet\n",
    "#i \"nuget:https://api.nuget.org/v3/index.json\"\n",
    "\n",
    "// 安裝 Microsoft.DotNet.Interactive.SqlServer\n",
    "#r \"nuget: Microsoft.DotNet.Interactive.SqlServer, *-*\""
   ]
  },
  {
   "cell_type": "code",
   "execution_count": 2,
   "metadata": {
    "dotnet_interactive": {
     "language": "csharp"
    },
    "polyglot_notebook": {
     "kernelName": "csharp"
    }
   },
   "outputs": [
    {
     "data": {
      "text/plain": [
       "Kernel added: #!sql-mydatabase"
      ]
     },
     "metadata": {},
     "output_type": "display_data"
    }
   ],
   "source": [
    "#!connect mssql --kernel-name mydatabase \"Persist Security Info=False;Initial Catalog=MyDatabase;Server=(localdb)\\MSSQLLocalDB\""
   ]
  },
  {
   "attachments": {},
   "cell_type": "markdown",
   "metadata": {},
   "source": [
    "* 取得資料"
   ]
  },
  {
   "cell_type": "code",
   "execution_count": 3,
   "metadata": {
    "dotnet_interactive": {
     "language": "sql-mydatabase"
    },
    "polyglot_notebook": {
     "kernelName": "sql-mydatabase"
    }
   },
   "outputs": [
    {
     "data": {
      "text/plain": [
       "(5 個資料列受到影響)"
      ]
     },
     "metadata": {},
     "output_type": "display_data"
    },
    {
     "data": {
      "text/csv": [
       "Id,Name,Age,IsEnabled,CreateDate\r\n",
       "1,Ace,1,True,2023-01-01T01:01:01.0000000\r\n",
       "11,Jack,11,True,2023-11-11T11:11:11.0000000\r\n",
       "12,Queen,12,True,2023-12-12T12:12:12.0000000\r\n",
       "13,King,13,True,2023-12-13T13:13:13.0000000\r\n",
       "14,Joker,14,True,2023-04-01T14:14:14.0000000\r\n"
      ],
      "text/html": [
       "<table><thead><tr><td><span>Id</span></td><td><span>Name</span></td><td><span>Age</span></td><td><span>IsEnabled</span></td><td><span>CreateDate</span></td></tr></thead><tbody><tr><td><div class=\"dni-plaintext\"><pre>1</pre></div></td><td>Ace</td><td><div class=\"dni-plaintext\"><pre>1</pre></div></td><td><div class=\"dni-plaintext\"><pre>True</pre></div></td><td><span>2023-01-01 01:01:01Z</span></td></tr><tr><td><div class=\"dni-plaintext\"><pre>11</pre></div></td><td>Jack</td><td><div class=\"dni-plaintext\"><pre>11</pre></div></td><td><div class=\"dni-plaintext\"><pre>True</pre></div></td><td><span>2023-11-11 11:11:11Z</span></td></tr><tr><td><div class=\"dni-plaintext\"><pre>12</pre></div></td><td>Queen</td><td><div class=\"dni-plaintext\"><pre>12</pre></div></td><td><div class=\"dni-plaintext\"><pre>True</pre></div></td><td><span>2023-12-12 12:12:12Z</span></td></tr><tr><td><div class=\"dni-plaintext\"><pre>13</pre></div></td><td>King</td><td><div class=\"dni-plaintext\"><pre>13</pre></div></td><td><div class=\"dni-plaintext\"><pre>True</pre></div></td><td><span>2023-12-13 13:13:13Z</span></td></tr><tr><td><div class=\"dni-plaintext\"><pre>14</pre></div></td><td>Joker</td><td><div class=\"dni-plaintext\"><pre>14</pre></div></td><td><div class=\"dni-plaintext\"><pre>True</pre></div></td><td><span>2023-04-01 14:14:14Z</span></td></tr></tbody></table><style>\r\n",
       ".dni-code-hint {\r\n",
       "    font-style: italic;\r\n",
       "    overflow: hidden;\r\n",
       "    white-space: nowrap;\r\n",
       "}\r\n",
       ".dni-treeview {\r\n",
       "    white-space: nowrap;\r\n",
       "}\r\n",
       ".dni-treeview td {\r\n",
       "    vertical-align: top;\r\n",
       "    text-align: start;\r\n",
       "}\r\n",
       "details.dni-treeview {\r\n",
       "    padding-left: 1em;\r\n",
       "}\r\n",
       "table td {\r\n",
       "    text-align: start;\r\n",
       "}\r\n",
       "table tr { \r\n",
       "    vertical-align: top; \r\n",
       "    margin: 0em 0px;\r\n",
       "}\r\n",
       "table tr td pre \r\n",
       "{ \r\n",
       "    vertical-align: top !important; \r\n",
       "    margin: 0em 0px !important;\r\n",
       "} \r\n",
       "table th {\r\n",
       "    text-align: start;\r\n",
       "}\r\n",
       "</style>"
      ]
     },
     "metadata": {},
     "output_type": "display_data"
    }
   ],
   "source": [
    "#!sql-mydatabase\n",
    "SELECT * FROM [Users];"
   ]
  }
 ],
 "metadata": {
  "kernelspec": {
   "display_name": ".NET (C#)",
   "language": "C#",
   "name": ".net-csharp"
  },
  "language_info": {
   "name": "polyglot-notebook"
  },
  "polyglot_notebook": {
   "kernelInfo": {
    "defaultKernelName": "csharp",
    "items": [
     {
      "aliases": [],
      "name": "csharp"
     },
     {
      "aliases": [],
      "languageName": "T-SQL",
      "name": "sql-mydatabase"
     }
    ]
   }
  }
 },
 "nbformat": 4,
 "nbformat_minor": 2
}
