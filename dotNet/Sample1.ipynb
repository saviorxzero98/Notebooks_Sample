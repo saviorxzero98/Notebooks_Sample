{
 "cells": [
  {
   "attachments": {},
   "cell_type": "markdown",
   "metadata": {},
   "source": [
    "# 平行處理"
   ]
  },
  {
   "attachments": {},
   "cell_type": "markdown",
   "metadata": {},
   "source": [
    "## 準備測試資料"
   ]
  },
  {
   "cell_type": "code",
   "execution_count": 1,
   "metadata": {
    "dotnet_interactive": {
     "language": "csharp"
    },
    "vscode": {
     "languageId": "polyglot-notebook"
    }
   },
   "outputs": [
    {
     "data": {
      "text/html": [
       "<div class=\"dni-plaintext\"><pre>[ 0, 1, 2, 3, 4, 5, 6, 7, 8, 9, 10, 11, 12, 13, 14, 15, 16, 17, 18, 19 ... (9980 more) ]</pre></div><style>\r\n",
       ".dni-code-hint {\r\n",
       "    font-style: italic;\r\n",
       "    overflow: hidden;\r\n",
       "    white-space: nowrap;\r\n",
       "}\r\n",
       ".dni-treeview {\r\n",
       "    white-space: nowrap;\r\n",
       "}\r\n",
       ".dni-treeview td {\r\n",
       "    vertical-align: top;\r\n",
       "    text-align: start;\r\n",
       "}\r\n",
       "details.dni-treeview {\r\n",
       "    padding-left: 1em;\r\n",
       "}\r\n",
       "table td {\r\n",
       "    text-align: start;\r\n",
       "}\r\n",
       "table tr { \r\n",
       "    vertical-align: top; \r\n",
       "    margin: 0em 0px;\r\n",
       "}\r\n",
       "table tr td pre \r\n",
       "{ \r\n",
       "    vertical-align: top !important; \r\n",
       "    margin: 0em 0px !important;\r\n",
       "} \r\n",
       "table th {\r\n",
       "    text-align: start;\r\n",
       "}\r\n",
       "</style>"
      ]
     },
     "metadata": {},
     "output_type": "display_data"
    }
   ],
   "source": [
    "using System.Collections.Generic;\n",
    "\n",
    "// 準備測試資料\n",
    "List<int> data = new List<int>();\n",
    "for (int i = 0; i < 10000; i++)\n",
    "{\n",
    "    data.Add(i);\n",
    "}\n",
    "\n",
    "display(data);"
   ]
  },
  {
   "attachments": {},
   "cell_type": "markdown",
   "metadata": {},
   "source": [
    "## 處理測試資料"
   ]
  },
  {
   "cell_type": "code",
   "execution_count": 2,
   "metadata": {
    "dotnet_interactive": {
     "language": "csharp"
    },
    "vscode": {
     "languageId": "polyglot-notebook"
    }
   },
   "outputs": [
    {
     "data": {
      "text/html": [
       "<table><thead><tr><th><i>key</i></th><th>value</th></tr></thead><tbody><tr><td>Key_6462</td><td><div class=\"dni-plaintext\"><pre>6462</pre></div></td></tr><tr><td>Key_3220</td><td><div class=\"dni-plaintext\"><pre>3220</pre></div></td></tr><tr><td>Key_7621</td><td><div class=\"dni-plaintext\"><pre>7621</pre></div></td></tr><tr><td>Key_4706</td><td><div class=\"dni-plaintext\"><pre>4706</pre></div></td></tr><tr><td>Key_6808</td><td><div class=\"dni-plaintext\"><pre>6808</pre></div></td></tr><tr><td>Key_676</td><td><div class=\"dni-plaintext\"><pre>676</pre></div></td></tr><tr><td>Key_6347</td><td><div class=\"dni-plaintext\"><pre>6347</pre></div></td></tr><tr><td>Key_472</td><td><div class=\"dni-plaintext\"><pre>472</pre></div></td></tr><tr><td>Key_1817</td><td><div class=\"dni-plaintext\"><pre>1817</pre></div></td></tr><tr><td>Key_5922</td><td><div class=\"dni-plaintext\"><pre>5922</pre></div></td></tr><tr><td>Key_9180</td><td><div class=\"dni-plaintext\"><pre>9180</pre></div></td></tr><tr><td>Key_9607</td><td><div class=\"dni-plaintext\"><pre>9607</pre></div></td></tr><tr><td>Key_1564</td><td><div class=\"dni-plaintext\"><pre>1564</pre></div></td></tr><tr><td>Key_3894</td><td><div class=\"dni-plaintext\"><pre>3894</pre></div></td></tr><tr><td>Key_2925</td><td><div class=\"dni-plaintext\"><pre>2925</pre></div></td></tr><tr><td>Key_6694</td><td><div class=\"dni-plaintext\"><pre>6694</pre></div></td></tr><tr><td>Key_3715</td><td><div class=\"dni-plaintext\"><pre>3715</pre></div></td></tr><tr><td>Key_48</td><td><div class=\"dni-plaintext\"><pre>48</pre></div></td></tr><tr><td>Key_2414</td><td><div class=\"dni-plaintext\"><pre>2414</pre></div></td></tr><tr><td>Key_1893</td><td><div class=\"dni-plaintext\"><pre>1893</pre></div></td></tr><tr><td colspan=\"2\"><i>(9980 more)</i></td></tr></tbody></table><style>\r\n",
       ".dni-code-hint {\r\n",
       "    font-style: italic;\r\n",
       "    overflow: hidden;\r\n",
       "    white-space: nowrap;\r\n",
       "}\r\n",
       ".dni-treeview {\r\n",
       "    white-space: nowrap;\r\n",
       "}\r\n",
       ".dni-treeview td {\r\n",
       "    vertical-align: top;\r\n",
       "    text-align: start;\r\n",
       "}\r\n",
       "details.dni-treeview {\r\n",
       "    padding-left: 1em;\r\n",
       "}\r\n",
       "table td {\r\n",
       "    text-align: start;\r\n",
       "}\r\n",
       "table tr { \r\n",
       "    vertical-align: top; \r\n",
       "    margin: 0em 0px;\r\n",
       "}\r\n",
       "table tr td pre \r\n",
       "{ \r\n",
       "    vertical-align: top !important; \r\n",
       "    margin: 0em 0px !important;\r\n",
       "} \r\n",
       "table th {\r\n",
       "    text-align: start;\r\n",
       "}\r\n",
       "</style>"
      ]
     },
     "metadata": {},
     "output_type": "display_data"
    }
   ],
   "source": [
    "using System.Collections.Concurrent;\n",
    "\n",
    "var dict = new ConcurrentDictionary<string, int>();\n",
    "var options = new ParallelOptions()\n",
    "{\n",
    "    MaxDegreeOfParallelism = 4\n",
    "};\n",
    "\n",
    "// 平行處理\n",
    "Parallel.ForEach(data, options, (item) =>\n",
    "{\n",
    "    dict.TryAdd($\"Key_{item}\", item);\n",
    "});\n",
    "\n",
    "display(dict);"
   ]
  }
 ],
 "metadata": {
  "kernelspec": {
   "display_name": ".NET (C#)",
   "language": "C#",
   "name": ".net-csharp"
  },
  "language_info": {
   "name": "C#"
  }
 },
 "nbformat": 4,
 "nbformat_minor": 2
}
