{
 "cells": [
  {
   "attachments": {},
   "cell_type": "markdown",
   "metadata": {},
   "source": [
    "# Adaptive Card Templates Playground"
   ]
  },
  {
   "attachments": {},
   "cell_type": "markdown",
   "metadata": {},
   "source": [
    "* 安裝相依的套件"
   ]
  },
  {
   "cell_type": "code",
   "execution_count": 1,
   "metadata": {
    "dotnet_interactive": {
     "language": "csharp"
    },
    "polyglot_notebook": {
     "kernelName": "csharp"
    },
    "vscode": {
     "languageId": "polyglot-notebook"
    }
   },
   "outputs": [
    {
     "data": {
      "text/html": [
       "<div><div><strong>Restore sources</strong><ul><li><span>https://api.nuget.org/v3/index.json</span></li></ul></div><div></div><div><strong>Installed Packages</strong><ul><li><span>AdaptiveCards, 2.7.3</span></li><li><span>AdaptiveCards.Rendering.Html, 2.7.3</span></li><li><span>AdaptiveCards.Templating, 1.5.0</span></li><li><span>Newtonsoft.Json, 13.0.3</span></li></ul></div></div>"
      ]
     },
     "metadata": {},
     "output_type": "display_data"
    }
   ],
   "source": [
    "// 設定 NuGet\n",
    "#i \"nuget:https://api.nuget.org/v3/index.json\"\n",
    "\n",
    "// 安裝 UUIDNext\n",
    "#r \"nuget:AdaptiveCards,2.7.3\"\n",
    "#r \"nuget:AdaptiveCards.Rendering.Html,2.7.3\"\n",
    "#r \"nuget:AdaptiveCards.Templating,1.5.0\"\n",
    "#r \"nuget:Newtonsoft.Json,13.0.3\""
   ]
  },
  {
   "attachments": {},
   "cell_type": "markdown",
   "metadata": {},
   "source": [
    "* Template JSON"
   ]
  },
  {
   "cell_type": "code",
   "execution_count": 2,
   "metadata": {
    "dotnet_interactive": {
     "language": "csharp"
    },
    "polyglot_notebook": {
     "kernelName": "csharp"
    },
    "vscode": {
     "languageId": "polyglot-notebook"
    }
   },
   "outputs": [],
   "source": [
    "#!value --name templateJson\n",
    "\n",
    "{\n",
    "    \"$schema\": \"http://adaptivecards.io/schemas/adaptive-card.json\",\n",
    "    \"type\": \"AdaptiveCard\",\n",
    "    \"version\": \"1.0\",\n",
    "    \"body\": [\n",
    "        {\n",
    "            \"type\": \"Container\",\n",
    "            \"items\": [\n",
    "                {\n",
    "                    \"type\": \"TextBlock\",\n",
    "                    \"size\": \"ExtraLarge\",\n",
    "                    \"weight\": \"Bolder\",\n",
    "                    \"text\": \"請假申請\"\n",
    "                }\n",
    "            ]\n",
    "        },\n",
    "        {\n",
    "            \"type\": \"Container\",\n",
    "            \"spacing\": \"Medium\",\n",
    "            \"items\": [\n",
    "                {\n",
    "                    \"type\": \"TextBlock\",\n",
    "                    \"size\": \"Medium\",\n",
    "                    \"weight\": \"Bolder\",\n",
    "                    \"text\": \"申請人\"\n",
    "                },\n",
    "                {\n",
    "                    \"type\": \"Input.Text\",\n",
    "                    \"id\": \"Applicant\",\n",
    "                    \"spacing\": \"Small\",\n",
    "                    \"value\": \"${applicant}\"\n",
    "                }\n",
    "            ]\n",
    "        },\n",
    "        {\n",
    "            \"type\": \"Container\",\n",
    "            \"spacing\": \"Medium\",\n",
    "            \"items\": [\n",
    "                {\n",
    "                    \"type\": \"TextBlock\",\n",
    "                    \"size\": \"Medium\",\n",
    "                    \"weight\": \"Bolder\",\n",
    "                    \"text\": \"日期\"\n",
    "                },\n",
    "                {\n",
    "                    \"type\": \"Input.Date\",\n",
    "                    \"id\": \"StartDate\",\n",
    "                    \"spacing\": \"Small\",\n",
    "                    \"value\": \"${utcNow('yyyy-MM-dd')}\"\n",
    "                }\n",
    "            ]\n",
    "        },\n",
    "        {\n",
    "            \"type\": \"Container\",\n",
    "            \"spacing\": \"Medium\",\n",
    "            \"items\": [\n",
    "                {\n",
    "                    \"type\": \"TextBlock\",\n",
    "                    \"size\": \"Medium\",\n",
    "                    \"weight\": \"Bolder\",\n",
    "                    \"text\": \"時數\"\n",
    "                },\n",
    "                {\n",
    "                    \"type\": \"Input.Number\",\n",
    "                    \"id\": \"LeaveHours\",\n",
    "                    \"spacing\": \"Small\",\n",
    "                    \"min\": 0.5,\n",
    "                    \"max\": 8,\n",
    "                    \"placeholder\": \"Enter a Leave Time\",\n",
    "                    \"value\": \"${leaveHours}\"\n",
    "                }\n",
    "            ]\n",
    "        },\n",
    "        {\n",
    "            \"type\": \"Container\",\n",
    "            \"spacing\": \"Medium\",\n",
    "            \"items\": [\n",
    "                {\n",
    "                    \"type\": \"TextBlock\",\n",
    "                    \"size\": \"Medium\",\n",
    "                    \"weight\": \"Bolder\",\n",
    "                    \"text\": \"假別\"\n",
    "                },\n",
    "                {\n",
    "                    \"type\": \"Input.ChoiceSet\",\n",
    "                    \"id\": \"${if(sex == '男', 'LeaveType', 'LeaveTypeHidden')}\",\n",
    "                    \"$when\": \"${sex == '男'}\",\n",
    "                    \"spacing\": \"Small\",\n",
    "                    \"value\": \"${leaveType}\",\n",
    "                    \"choices\": [\n",
    "                        {\n",
    "                            \"title\": \"特休假\",\n",
    "                            \"value\": \"特休假\"\n",
    "                        },\n",
    "                        {\n",
    "                            \"title\": \"事假\",\n",
    "                            \"value\": \"事假\"\n",
    "                        },\n",
    "                        {\n",
    "                            \"title\": \"病假\",\n",
    "                            \"value\": \"病假\"\n",
    "                        }\n",
    "                    ]\n",
    "                },\n",
    "                {\n",
    "                    \"type\": \"Input.ChoiceSet\",\n",
    "                    \"id\": \"${if(sex == '女', 'LeaveType', 'LeaveTypeHidden')}\",\n",
    "                    \"$when\": \"${sex == '女'}\",\n",
    "                    \"spacing\": \"Small\",\n",
    "                    \"value\": \"${leaveType}\",\n",
    "                    \"choices\": [\n",
    "                        {\n",
    "                            \"title\": \"特休假\",\n",
    "                            \"value\": \"特休假\"\n",
    "                        },\n",
    "                        {\n",
    "                            \"title\": \"事假\",\n",
    "                            \"value\": \"事假\"\n",
    "                        },\n",
    "                        {\n",
    "                            \"title\": \"病假\",\n",
    "                            \"value\": \"病假\"\n",
    "                        },\n",
    "                        {\n",
    "                            \"title\": \"生理假\",\n",
    "                            \"value\": \"生理假\"\n",
    "                        }\n",
    "                    ]\n",
    "                }\n",
    "            ]\n",
    "        },\n",
    "        {\n",
    "            \"type\": \"Container\",\n",
    "            \"spacing\": \"Medium\",\n",
    "            \"items\": [\n",
    "                {\n",
    "                    \"type\": \"TextBlock\",\n",
    "                    \"size\": \"Medium\",\n",
    "                    \"weight\": \"Bolder\",\n",
    "                    \"text\": \"請假事由\"\n",
    "                },\n",
    "                {\n",
    "                    \"type\": \"Input.Text\",\n",
    "                    \"id\": \"Subject\",\n",
    "                    \"spacing\": \"Small\",\n",
    "                    \"isMultiline\": true,\n",
    "                    \"maxLength\": 250,\n",
    "                    \"placeholder\": \"請在這裡輸入請假事由\",\n",
    "                    \"value\": \"${subject}\"\n",
    "                }\n",
    "            ]\n",
    "        }\n",
    "    ],\n",
    "    \"actions\": [\n",
    "        {\n",
    "            \"type\": \"Action.Submit\",\n",
    "            \"title\": \"送出\",\n",
    "            \"data\": {\n",
    "                \"Action\": \"Send\"\n",
    "            }\n",
    "        },\n",
    "        {\n",
    "            \"type\": \"Action.Submit\",\n",
    "            \"title\": \"取消\",\n",
    "            \"data\": {\n",
    "                \"Action\": \"Quit\"\n",
    "            }\n",
    "        }\n",
    "    ]\n",
    "}"
   ]
  },
  {
   "attachments": {},
   "cell_type": "markdown",
   "metadata": {},
   "source": [
    "* Data JSON (男)"
   ]
  },
  {
   "cell_type": "code",
   "execution_count": 3,
   "metadata": {
    "dotnet_interactive": {
     "language": "csharp"
    },
    "polyglot_notebook": {
     "kernelName": "csharp"
    },
    "vscode": {
     "languageId": "polyglot-notebook"
    }
   },
   "outputs": [],
   "source": [
    "#!value --name dataJson\n",
    "\n",
    "{\n",
    "    \"Applicant\": \"David\",\n",
    "    \"Sex\": \"男\",\n",
    "    \"LeaveType\": \"特休假\",\n",
    "    \"LeaveHours\": 8,\n",
    "    \"Subject\": \"特休\"\n",
    "}"
   ]
  },
  {
   "attachments": {},
   "cell_type": "markdown",
   "metadata": {},
   "source": [
    "* Data JSON (女)"
   ]
  },
  {
   "cell_type": "code",
   "execution_count": null,
   "metadata": {
    "dotnet_interactive": {
     "language": "csharp"
    },
    "polyglot_notebook": {
     "kernelName": "csharp"
    },
    "vscode": {
     "languageId": "polyglot-notebook"
    }
   },
   "outputs": [],
   "source": [
    "#!value --name dataJson\n",
    "\n",
    "{\n",
    "    \"Applicant\": \"Venus\",\n",
    "    \"Sex\": \"女\",\n",
    "    \"LeaveType\": \"特休假\",\n",
    "    \"LeaveHours\": 8,\n",
    "    \"Subject\": \"特休\"\n",
    "}"
   ]
  },
  {
   "attachments": {},
   "cell_type": "markdown",
   "metadata": {},
   "source": [
    "* JSON 轉換"
   ]
  },
  {
   "cell_type": "code",
   "execution_count": 4,
   "metadata": {
    "dotnet_interactive": {
     "language": "csharp"
    },
    "polyglot_notebook": {
     "kernelName": "csharp"
    },
    "vscode": {
     "languageId": "polyglot-notebook"
    }
   },
   "outputs": [
    {
     "data": {
      "text/html": [
       "<div class='ac-adaptivecard' style='width: 100%;background-color: rgba(255, 255, 255, 1.00);padding: 15px;box-sizing: border-box;justify-content: flex-start;'><div class='ac-container' style='justify-content: flex-start;'><div class='ac-textblock' style='box-sizing: border-box;text-align: left;color: rgba(0, 0, 0, 1.00);line-height: 34.58px;font-size: 26px;font-weight: 600;white-space: nowrap;'><p style='margin-top: 0px;margin-bottom: 0px;width: 100%;text-overflow: ellipsis;overflow: hidden;'>請假申請</p></div></div><div class='ac-separator' id='ac-f89fa65f' style='height: 20px;'></div><div class='ac-container' data-ac-separatorId='ac-f89fa65f' style='justify-content: flex-start;'><div class='ac-textblock' style='box-sizing: border-box;text-align: left;color: rgba(0, 0, 0, 1.00);line-height: 22.61px;font-size: 17px;font-weight: 600;white-space: nowrap;'><p style='margin-top: 0px;margin-bottom: 0px;width: 100%;text-overflow: ellipsis;overflow: hidden;'>申請人</p></div><div class='ac-separator' id='ac-bdd0148c' style='height: 3px;'></div><input class='ac-textinput ac-input' type='text' value='David' name='Applicant' data-ac-separatorId='ac-bdd0148c' style='flex: 1 1 auto;'/></div><div class='ac-separator' id='ac-7fec5a3e' style='height: 20px;'></div><div class='ac-container' data-ac-separatorId='ac-7fec5a3e' style='justify-content: flex-start;'><div class='ac-textblock' style='box-sizing: border-box;text-align: left;color: rgba(0, 0, 0, 1.00);line-height: 22.61px;font-size: 17px;font-weight: 600;white-space: nowrap;'><p style='margin-top: 0px;margin-bottom: 0px;width: 100%;text-overflow: ellipsis;overflow: hidden;'>日期</p></div><div class='ac-separator' id='ac-e7f1a54c' style='height: 3px;'></div><input class='ac-input ac-dateInput' name='StartDate' type='date' aria-label='Select date in mm/dd/yyyy format' value='2023-10-22' data-ac-separatorId='ac-e7f1a54c' style='width: 100%;'/></div><div class='ac-separator' id='ac-7fef6cfe' style='height: 20px;'></div><div class='ac-container' data-ac-separatorId='ac-7fef6cfe' style='justify-content: flex-start;'><div class='ac-textblock' style='box-sizing: border-box;text-align: left;color: rgba(0, 0, 0, 1.00);line-height: 22.61px;font-size: 17px;font-weight: 600;white-space: nowrap;'><p style='margin-top: 0px;margin-bottom: 0px;width: 100%;text-overflow: ellipsis;overflow: hidden;'>時數</p></div><div class='ac-separator' id='ac-a6357a95' style='height: 3px;'></div><input class='ac-input ac-numberInput' name='LeaveHours' type='number' min='0.5' max='8' value='8' data-ac-separatorId='ac-a6357a95' style='width: 100%;'/></div><div class='ac-separator' id='ac-134f23d3' style='height: 20px;'></div><div class='ac-container' data-ac-separatorId='ac-134f23d3' style='justify-content: flex-start;'><div class='ac-textblock' style='box-sizing: border-box;text-align: left;color: rgba(0, 0, 0, 1.00);line-height: 22.61px;font-size: 17px;font-weight: 600;white-space: nowrap;'><p style='margin-top: 0px;margin-bottom: 0px;width: 100%;text-overflow: ellipsis;overflow: hidden;'>假別</p></div><div class='ac-separator' id='ac-25f9956d' style='height: 3px;'></div><select class='ac-input ac-multichoiceInput' name='LeaveType' data-ac-separatorId='ac-25f9956d' style='width: 100%;'><option value='特休假' selected=''>特休假</option><option value='事假'>事假</option><option value='病假'>病假</option></select></div><div class='ac-separator' id='ac-428dd432' style='height: 20px;'></div><div class='ac-container' data-ac-separatorId='ac-428dd432' style='justify-content: flex-start;'><div class='ac-textblock' style='box-sizing: border-box;text-align: left;color: rgba(0, 0, 0, 1.00);line-height: 22.61px;font-size: 17px;font-weight: 600;white-space: nowrap;'><p style='margin-top: 0px;margin-bottom: 0px;width: 100%;text-overflow: ellipsis;overflow: hidden;'>請假事由</p></div><div class='ac-separator' id='ac-cfd914b7' style='height: 3px;'></div><textarea class='ac-textinput ac-input' name='Subject' placeholder='請在這裡輸入請假事由' maxLength='250' data-ac-separatorId='ac-cfd914b7'>特休</textarea></div><div class='ac-separator' style='height: 8px;'></div><div class='ac-actionset' style='display: flex;flex-direction: row;justify-content: flex-start;'><button class='ac-pushButton ac-action-submit' type='button' role='button' aria-label='送出' tabindex='0' data-ac-submitData='{&quot;Action&quot;:&quot;Send&quot;}' style='overflow: hidden;white-space: nowrap;text-overflow: ellipsis;flex: 0 1 100%;display: flex;align-items: center;justify-content: center;'><div>送出</div></button><div style='flex: 0 0 auto;width: 10px;'></div><button class='ac-pushButton ac-action-submit' type='button' role='button' aria-label='取消' tabindex='0' data-ac-submitData='{&quot;Action&quot;:&quot;Quit&quot;}' style='overflow: hidden;white-space: nowrap;text-overflow: ellipsis;flex: 0 1 100%;display: flex;align-items: center;justify-content: center;'><div>取消</div></button></div></div>"
      ]
     },
     "metadata": {},
     "output_type": "display_data"
    }
   ],
   "source": [
    "#!share templateJson --from value\n",
    "#!share dataJson --from value\n",
    "\n",
    "using AdaptiveCards;\n",
    "using AdaptiveCards.Rendering.Html;\n",
    "using AdaptiveCards.Templating;\n",
    "using Newtonsoft.Json.Linq;\n",
    "\n",
    "//display(templateJson);\n",
    "//display(dataJson);\n",
    "\n",
    "// 範本\n",
    "var template = new AdaptiveCardTemplate(templateJson);\n",
    "\n",
    "// 資料\n",
    "var bindingData = JToken.Parse(dataJson);\n",
    "\n",
    "// 資料綁定\n",
    "string cardJson = template.Expand(bindingData);\n",
    "//display(cardJson);\n",
    "\n",
    "// 解析 Adaptive Card\n",
    "var parseResults = AdaptiveCard.FromJson(cardJson);\n",
    "\n",
    "// 轉換成 HTML\n",
    "var renderer = new AdaptiveCardRenderer();\n",
    "var cardHtml = renderer.RenderCard(parseResults.Card);\n",
    "\n",
    "// 使用 Pocket View\n",
    "var pocketView = HTML(cardHtml.Html.ToString());\n",
    "display(pocketView);"
   ]
  }
 ],
 "metadata": {
  "language_info": {
   "name": "python"
  },
  "orig_nbformat": 4
 },
 "nbformat": 4,
 "nbformat_minor": 2
}
